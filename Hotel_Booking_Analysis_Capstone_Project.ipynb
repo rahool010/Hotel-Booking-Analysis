{
  "nbformat": 4,
  "nbformat_minor": 0,
  "metadata": {
    "kernelspec": {
      "display_name": "Python 3",
      "language": "python",
      "name": "python3"
    },
    "language_info": {
      "codemirror_mode": {
        "name": "ipython",
        "version": 3
      },
      "file_extension": ".py",
      "mimetype": "text/x-python",
      "name": "python",
      "nbconvert_exporter": "python",
      "pygments_lexer": "ipython3",
      "version": "3.6.6"
    },
    "colab": {
      "name": "Hotel Booking Analysis - Capstone Project.ipynb",
      "provenance": [],
      "collapsed_sections": [],
      "include_colab_link": true
    }
  },
  "cells": [
    {
      "cell_type": "markdown",
      "metadata": {
        "id": "view-in-github",
        "colab_type": "text"
      },
      "source": [
        "<a href=\"https://colab.research.google.com/github/rahool010/Hotel-Booking-Analysis/blob/main/Hotel_Booking_Analysis_Capstone_Project.ipynb\" target=\"_parent\"><img src=\"https://colab.research.google.com/assets/colab-badge.svg\" alt=\"Open In Colab\"/></a>"
      ]
    },
    {
      "cell_type": "markdown",
      "metadata": {
        "id": "Y06xIdG26kRF"
      },
      "source": [
        "## <b> Have you ever wondered when the best time of year to book a hotel room is? Or the optimal length of stay in order to get the best daily rate? What if you wanted to predict whether or not a hotel was likely to receive a disproportionately high number of special requests? This hotel booking dataset can help you explore those questions!\n",
        "\n",
        "## <b>This data set contains booking information for a city hotel and a resort hotel, and includes information such as when the booking was made, length of stay, the number of adults, children, and/or babies, and the number of available parking spaces, among other things. All personally identifying information has been removed from the data. </b>\n",
        "\n",
        "## <b> Explore and analyze the data to discover important factors that govern the bookings. </b>"
      ]
    },
    {
      "cell_type": "code",
      "metadata": {
        "id": "dByMsuzT8Tnw"
      },
      "source": [
        "# import neccessary packages\n",
        "import pandas as pd\n",
        "import numpy as np\n",
        "import matplotlib.pyplot as plt\n",
        "import seaborn as sns\n",
        "%matplotlib inline \n",
        "\n",
        "import warnings\n",
        "warnings.filterwarnings('ignore')"
      ],
      "execution_count": 1,
      "outputs": []
    },
    {
      "cell_type": "code",
      "metadata": {
        "colab": {
          "base_uri": "https://localhost:8080/"
        },
        "id": "OHptyXQ1QQPF",
        "outputId": "3036d4aa-940d-4536-94b7-c9b12d00ce93"
      },
      "source": [
        "from google.colab import drive\n",
        "drive.mount('/content/drive')"
      ],
      "execution_count": 3,
      "outputs": [
        {
          "output_type": "stream",
          "text": [
            "Mounted at /content/drive\n"
          ],
          "name": "stdout"
        }
      ]
    },
    {
      "cell_type": "code",
      "metadata": {
        "colab": {
          "base_uri": "https://localhost:8080/",
          "height": 309
        },
        "id": "lrl1BTBBQTis",
        "outputId": "dedd8ff0-5379-4a31-f65e-7dd9a4c0e82e"
      },
      "source": [
        "df=pd.read_csv(\"/content/drive/MyDrive/Hotel Booking Analysis/Hotel Bookings.csv\")\n",
        "df.head()   # shows first 5 observations by default"
      ],
      "execution_count": 4,
      "outputs": [
        {
          "output_type": "execute_result",
          "data": {
            "text/html": [
              "<div>\n",
              "<style scoped>\n",
              "    .dataframe tbody tr th:only-of-type {\n",
              "        vertical-align: middle;\n",
              "    }\n",
              "\n",
              "    .dataframe tbody tr th {\n",
              "        vertical-align: top;\n",
              "    }\n",
              "\n",
              "    .dataframe thead th {\n",
              "        text-align: right;\n",
              "    }\n",
              "</style>\n",
              "<table border=\"1\" class=\"dataframe\">\n",
              "  <thead>\n",
              "    <tr style=\"text-align: right;\">\n",
              "      <th></th>\n",
              "      <th>hotel</th>\n",
              "      <th>is_canceled</th>\n",
              "      <th>lead_time</th>\n",
              "      <th>arrival_date_year</th>\n",
              "      <th>arrival_date_month</th>\n",
              "      <th>arrival_date_week_number</th>\n",
              "      <th>arrival_date_day_of_month</th>\n",
              "      <th>stays_in_weekend_nights</th>\n",
              "      <th>stays_in_week_nights</th>\n",
              "      <th>adults</th>\n",
              "      <th>children</th>\n",
              "      <th>babies</th>\n",
              "      <th>meal</th>\n",
              "      <th>country</th>\n",
              "      <th>market_segment</th>\n",
              "      <th>distribution_channel</th>\n",
              "      <th>is_repeated_guest</th>\n",
              "      <th>previous_cancellations</th>\n",
              "      <th>previous_bookings_not_canceled</th>\n",
              "      <th>reserved_room_type</th>\n",
              "      <th>assigned_room_type</th>\n",
              "      <th>booking_changes</th>\n",
              "      <th>deposit_type</th>\n",
              "      <th>agent</th>\n",
              "      <th>company</th>\n",
              "      <th>days_in_waiting_list</th>\n",
              "      <th>customer_type</th>\n",
              "      <th>adr</th>\n",
              "      <th>required_car_parking_spaces</th>\n",
              "      <th>total_of_special_requests</th>\n",
              "      <th>reservation_status</th>\n",
              "      <th>reservation_status_date</th>\n",
              "    </tr>\n",
              "  </thead>\n",
              "  <tbody>\n",
              "    <tr>\n",
              "      <th>0</th>\n",
              "      <td>Resort Hotel</td>\n",
              "      <td>0</td>\n",
              "      <td>342</td>\n",
              "      <td>2015</td>\n",
              "      <td>July</td>\n",
              "      <td>27</td>\n",
              "      <td>1</td>\n",
              "      <td>0</td>\n",
              "      <td>0</td>\n",
              "      <td>2</td>\n",
              "      <td>0.0</td>\n",
              "      <td>0</td>\n",
              "      <td>BB</td>\n",
              "      <td>PRT</td>\n",
              "      <td>Direct</td>\n",
              "      <td>Direct</td>\n",
              "      <td>0</td>\n",
              "      <td>0</td>\n",
              "      <td>0</td>\n",
              "      <td>C</td>\n",
              "      <td>C</td>\n",
              "      <td>3</td>\n",
              "      <td>No Deposit</td>\n",
              "      <td>NaN</td>\n",
              "      <td>NaN</td>\n",
              "      <td>0</td>\n",
              "      <td>Transient</td>\n",
              "      <td>0.0</td>\n",
              "      <td>0</td>\n",
              "      <td>0</td>\n",
              "      <td>Check-Out</td>\n",
              "      <td>2015-07-01</td>\n",
              "    </tr>\n",
              "    <tr>\n",
              "      <th>1</th>\n",
              "      <td>Resort Hotel</td>\n",
              "      <td>0</td>\n",
              "      <td>737</td>\n",
              "      <td>2015</td>\n",
              "      <td>July</td>\n",
              "      <td>27</td>\n",
              "      <td>1</td>\n",
              "      <td>0</td>\n",
              "      <td>0</td>\n",
              "      <td>2</td>\n",
              "      <td>0.0</td>\n",
              "      <td>0</td>\n",
              "      <td>BB</td>\n",
              "      <td>PRT</td>\n",
              "      <td>Direct</td>\n",
              "      <td>Direct</td>\n",
              "      <td>0</td>\n",
              "      <td>0</td>\n",
              "      <td>0</td>\n",
              "      <td>C</td>\n",
              "      <td>C</td>\n",
              "      <td>4</td>\n",
              "      <td>No Deposit</td>\n",
              "      <td>NaN</td>\n",
              "      <td>NaN</td>\n",
              "      <td>0</td>\n",
              "      <td>Transient</td>\n",
              "      <td>0.0</td>\n",
              "      <td>0</td>\n",
              "      <td>0</td>\n",
              "      <td>Check-Out</td>\n",
              "      <td>2015-07-01</td>\n",
              "    </tr>\n",
              "    <tr>\n",
              "      <th>2</th>\n",
              "      <td>Resort Hotel</td>\n",
              "      <td>0</td>\n",
              "      <td>7</td>\n",
              "      <td>2015</td>\n",
              "      <td>July</td>\n",
              "      <td>27</td>\n",
              "      <td>1</td>\n",
              "      <td>0</td>\n",
              "      <td>1</td>\n",
              "      <td>1</td>\n",
              "      <td>0.0</td>\n",
              "      <td>0</td>\n",
              "      <td>BB</td>\n",
              "      <td>GBR</td>\n",
              "      <td>Direct</td>\n",
              "      <td>Direct</td>\n",
              "      <td>0</td>\n",
              "      <td>0</td>\n",
              "      <td>0</td>\n",
              "      <td>A</td>\n",
              "      <td>C</td>\n",
              "      <td>0</td>\n",
              "      <td>No Deposit</td>\n",
              "      <td>NaN</td>\n",
              "      <td>NaN</td>\n",
              "      <td>0</td>\n",
              "      <td>Transient</td>\n",
              "      <td>75.0</td>\n",
              "      <td>0</td>\n",
              "      <td>0</td>\n",
              "      <td>Check-Out</td>\n",
              "      <td>2015-07-02</td>\n",
              "    </tr>\n",
              "    <tr>\n",
              "      <th>3</th>\n",
              "      <td>Resort Hotel</td>\n",
              "      <td>0</td>\n",
              "      <td>13</td>\n",
              "      <td>2015</td>\n",
              "      <td>July</td>\n",
              "      <td>27</td>\n",
              "      <td>1</td>\n",
              "      <td>0</td>\n",
              "      <td>1</td>\n",
              "      <td>1</td>\n",
              "      <td>0.0</td>\n",
              "      <td>0</td>\n",
              "      <td>BB</td>\n",
              "      <td>GBR</td>\n",
              "      <td>Corporate</td>\n",
              "      <td>Corporate</td>\n",
              "      <td>0</td>\n",
              "      <td>0</td>\n",
              "      <td>0</td>\n",
              "      <td>A</td>\n",
              "      <td>A</td>\n",
              "      <td>0</td>\n",
              "      <td>No Deposit</td>\n",
              "      <td>304.0</td>\n",
              "      <td>NaN</td>\n",
              "      <td>0</td>\n",
              "      <td>Transient</td>\n",
              "      <td>75.0</td>\n",
              "      <td>0</td>\n",
              "      <td>0</td>\n",
              "      <td>Check-Out</td>\n",
              "      <td>2015-07-02</td>\n",
              "    </tr>\n",
              "    <tr>\n",
              "      <th>4</th>\n",
              "      <td>Resort Hotel</td>\n",
              "      <td>0</td>\n",
              "      <td>14</td>\n",
              "      <td>2015</td>\n",
              "      <td>July</td>\n",
              "      <td>27</td>\n",
              "      <td>1</td>\n",
              "      <td>0</td>\n",
              "      <td>2</td>\n",
              "      <td>2</td>\n",
              "      <td>0.0</td>\n",
              "      <td>0</td>\n",
              "      <td>BB</td>\n",
              "      <td>GBR</td>\n",
              "      <td>Online TA</td>\n",
              "      <td>TA/TO</td>\n",
              "      <td>0</td>\n",
              "      <td>0</td>\n",
              "      <td>0</td>\n",
              "      <td>A</td>\n",
              "      <td>A</td>\n",
              "      <td>0</td>\n",
              "      <td>No Deposit</td>\n",
              "      <td>240.0</td>\n",
              "      <td>NaN</td>\n",
              "      <td>0</td>\n",
              "      <td>Transient</td>\n",
              "      <td>98.0</td>\n",
              "      <td>0</td>\n",
              "      <td>1</td>\n",
              "      <td>Check-Out</td>\n",
              "      <td>2015-07-03</td>\n",
              "    </tr>\n",
              "  </tbody>\n",
              "</table>\n",
              "</div>"
            ],
            "text/plain": [
              "          hotel  is_canceled  ...  reservation_status  reservation_status_date\n",
              "0  Resort Hotel            0  ...           Check-Out               2015-07-01\n",
              "1  Resort Hotel            0  ...           Check-Out               2015-07-01\n",
              "2  Resort Hotel            0  ...           Check-Out               2015-07-02\n",
              "3  Resort Hotel            0  ...           Check-Out               2015-07-02\n",
              "4  Resort Hotel            0  ...           Check-Out               2015-07-03\n",
              "\n",
              "[5 rows x 32 columns]"
            ]
          },
          "metadata": {},
          "execution_count": 4
        }
      ]
    },
    {
      "cell_type": "markdown",
      "metadata": {
        "id": "HMoq2sE780-c"
      },
      "source": [
        "![data dictionary.png](data:image/png;base64,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)"
      ]
    },
    {
      "cell_type": "code",
      "metadata": {
        "colab": {
          "base_uri": "https://localhost:8080/",
          "height": 309
        },
        "id": "6WzOcd10wrFe",
        "outputId": "d1dd4ad5-2fce-46fa-838c-c53ea73e4cfc"
      },
      "source": [
        "df.tail()  # shows last 5 observations by default"
      ],
      "execution_count": 5,
      "outputs": [
        {
          "output_type": "execute_result",
          "data": {
            "text/html": [
              "<div>\n",
              "<style scoped>\n",
              "    .dataframe tbody tr th:only-of-type {\n",
              "        vertical-align: middle;\n",
              "    }\n",
              "\n",
              "    .dataframe tbody tr th {\n",
              "        vertical-align: top;\n",
              "    }\n",
              "\n",
              "    .dataframe thead th {\n",
              "        text-align: right;\n",
              "    }\n",
              "</style>\n",
              "<table border=\"1\" class=\"dataframe\">\n",
              "  <thead>\n",
              "    <tr style=\"text-align: right;\">\n",
              "      <th></th>\n",
              "      <th>hotel</th>\n",
              "      <th>is_canceled</th>\n",
              "      <th>lead_time</th>\n",
              "      <th>arrival_date_year</th>\n",
              "      <th>arrival_date_month</th>\n",
              "      <th>arrival_date_week_number</th>\n",
              "      <th>arrival_date_day_of_month</th>\n",
              "      <th>stays_in_weekend_nights</th>\n",
              "      <th>stays_in_week_nights</th>\n",
              "      <th>adults</th>\n",
              "      <th>children</th>\n",
              "      <th>babies</th>\n",
              "      <th>meal</th>\n",
              "      <th>country</th>\n",
              "      <th>market_segment</th>\n",
              "      <th>distribution_channel</th>\n",
              "      <th>is_repeated_guest</th>\n",
              "      <th>previous_cancellations</th>\n",
              "      <th>previous_bookings_not_canceled</th>\n",
              "      <th>reserved_room_type</th>\n",
              "      <th>assigned_room_type</th>\n",
              "      <th>booking_changes</th>\n",
              "      <th>deposit_type</th>\n",
              "      <th>agent</th>\n",
              "      <th>company</th>\n",
              "      <th>days_in_waiting_list</th>\n",
              "      <th>customer_type</th>\n",
              "      <th>adr</th>\n",
              "      <th>required_car_parking_spaces</th>\n",
              "      <th>total_of_special_requests</th>\n",
              "      <th>reservation_status</th>\n",
              "      <th>reservation_status_date</th>\n",
              "    </tr>\n",
              "  </thead>\n",
              "  <tbody>\n",
              "    <tr>\n",
              "      <th>119385</th>\n",
              "      <td>City Hotel</td>\n",
              "      <td>0</td>\n",
              "      <td>23</td>\n",
              "      <td>2017</td>\n",
              "      <td>August</td>\n",
              "      <td>35</td>\n",
              "      <td>30</td>\n",
              "      <td>2</td>\n",
              "      <td>5</td>\n",
              "      <td>2</td>\n",
              "      <td>0.0</td>\n",
              "      <td>0</td>\n",
              "      <td>BB</td>\n",
              "      <td>BEL</td>\n",
              "      <td>Offline TA/TO</td>\n",
              "      <td>TA/TO</td>\n",
              "      <td>0</td>\n",
              "      <td>0</td>\n",
              "      <td>0</td>\n",
              "      <td>A</td>\n",
              "      <td>A</td>\n",
              "      <td>0</td>\n",
              "      <td>No Deposit</td>\n",
              "      <td>394.0</td>\n",
              "      <td>NaN</td>\n",
              "      <td>0</td>\n",
              "      <td>Transient</td>\n",
              "      <td>96.14</td>\n",
              "      <td>0</td>\n",
              "      <td>0</td>\n",
              "      <td>Check-Out</td>\n",
              "      <td>2017-09-06</td>\n",
              "    </tr>\n",
              "    <tr>\n",
              "      <th>119386</th>\n",
              "      <td>City Hotel</td>\n",
              "      <td>0</td>\n",
              "      <td>102</td>\n",
              "      <td>2017</td>\n",
              "      <td>August</td>\n",
              "      <td>35</td>\n",
              "      <td>31</td>\n",
              "      <td>2</td>\n",
              "      <td>5</td>\n",
              "      <td>3</td>\n",
              "      <td>0.0</td>\n",
              "      <td>0</td>\n",
              "      <td>BB</td>\n",
              "      <td>FRA</td>\n",
              "      <td>Online TA</td>\n",
              "      <td>TA/TO</td>\n",
              "      <td>0</td>\n",
              "      <td>0</td>\n",
              "      <td>0</td>\n",
              "      <td>E</td>\n",
              "      <td>E</td>\n",
              "      <td>0</td>\n",
              "      <td>No Deposit</td>\n",
              "      <td>9.0</td>\n",
              "      <td>NaN</td>\n",
              "      <td>0</td>\n",
              "      <td>Transient</td>\n",
              "      <td>225.43</td>\n",
              "      <td>0</td>\n",
              "      <td>2</td>\n",
              "      <td>Check-Out</td>\n",
              "      <td>2017-09-07</td>\n",
              "    </tr>\n",
              "    <tr>\n",
              "      <th>119387</th>\n",
              "      <td>City Hotel</td>\n",
              "      <td>0</td>\n",
              "      <td>34</td>\n",
              "      <td>2017</td>\n",
              "      <td>August</td>\n",
              "      <td>35</td>\n",
              "      <td>31</td>\n",
              "      <td>2</td>\n",
              "      <td>5</td>\n",
              "      <td>2</td>\n",
              "      <td>0.0</td>\n",
              "      <td>0</td>\n",
              "      <td>BB</td>\n",
              "      <td>DEU</td>\n",
              "      <td>Online TA</td>\n",
              "      <td>TA/TO</td>\n",
              "      <td>0</td>\n",
              "      <td>0</td>\n",
              "      <td>0</td>\n",
              "      <td>D</td>\n",
              "      <td>D</td>\n",
              "      <td>0</td>\n",
              "      <td>No Deposit</td>\n",
              "      <td>9.0</td>\n",
              "      <td>NaN</td>\n",
              "      <td>0</td>\n",
              "      <td>Transient</td>\n",
              "      <td>157.71</td>\n",
              "      <td>0</td>\n",
              "      <td>4</td>\n",
              "      <td>Check-Out</td>\n",
              "      <td>2017-09-07</td>\n",
              "    </tr>\n",
              "    <tr>\n",
              "      <th>119388</th>\n",
              "      <td>City Hotel</td>\n",
              "      <td>0</td>\n",
              "      <td>109</td>\n",
              "      <td>2017</td>\n",
              "      <td>August</td>\n",
              "      <td>35</td>\n",
              "      <td>31</td>\n",
              "      <td>2</td>\n",
              "      <td>5</td>\n",
              "      <td>2</td>\n",
              "      <td>0.0</td>\n",
              "      <td>0</td>\n",
              "      <td>BB</td>\n",
              "      <td>GBR</td>\n",
              "      <td>Online TA</td>\n",
              "      <td>TA/TO</td>\n",
              "      <td>0</td>\n",
              "      <td>0</td>\n",
              "      <td>0</td>\n",
              "      <td>A</td>\n",
              "      <td>A</td>\n",
              "      <td>0</td>\n",
              "      <td>No Deposit</td>\n",
              "      <td>89.0</td>\n",
              "      <td>NaN</td>\n",
              "      <td>0</td>\n",
              "      <td>Transient</td>\n",
              "      <td>104.40</td>\n",
              "      <td>0</td>\n",
              "      <td>0</td>\n",
              "      <td>Check-Out</td>\n",
              "      <td>2017-09-07</td>\n",
              "    </tr>\n",
              "    <tr>\n",
              "      <th>119389</th>\n",
              "      <td>City Hotel</td>\n",
              "      <td>0</td>\n",
              "      <td>205</td>\n",
              "      <td>2017</td>\n",
              "      <td>August</td>\n",
              "      <td>35</td>\n",
              "      <td>29</td>\n",
              "      <td>2</td>\n",
              "      <td>7</td>\n",
              "      <td>2</td>\n",
              "      <td>0.0</td>\n",
              "      <td>0</td>\n",
              "      <td>HB</td>\n",
              "      <td>DEU</td>\n",
              "      <td>Online TA</td>\n",
              "      <td>TA/TO</td>\n",
              "      <td>0</td>\n",
              "      <td>0</td>\n",
              "      <td>0</td>\n",
              "      <td>A</td>\n",
              "      <td>A</td>\n",
              "      <td>0</td>\n",
              "      <td>No Deposit</td>\n",
              "      <td>9.0</td>\n",
              "      <td>NaN</td>\n",
              "      <td>0</td>\n",
              "      <td>Transient</td>\n",
              "      <td>151.20</td>\n",
              "      <td>0</td>\n",
              "      <td>2</td>\n",
              "      <td>Check-Out</td>\n",
              "      <td>2017-09-07</td>\n",
              "    </tr>\n",
              "  </tbody>\n",
              "</table>\n",
              "</div>"
            ],
            "text/plain": [
              "             hotel  is_canceled  ...  reservation_status  reservation_status_date\n",
              "119385  City Hotel            0  ...           Check-Out               2017-09-06\n",
              "119386  City Hotel            0  ...           Check-Out               2017-09-07\n",
              "119387  City Hotel            0  ...           Check-Out               2017-09-07\n",
              "119388  City Hotel            0  ...           Check-Out               2017-09-07\n",
              "119389  City Hotel            0  ...           Check-Out               2017-09-07\n",
              "\n",
              "[5 rows x 32 columns]"
            ]
          },
          "metadata": {},
          "execution_count": 5
        }
      ]
    },
    {
      "cell_type": "code",
      "metadata": {
        "colab": {
          "base_uri": "https://localhost:8080/"
        },
        "id": "xI7VlpaWSUtY",
        "outputId": "ecfb79cc-06f0-43ab-dae7-54939cd9ffbc"
      },
      "source": [
        "# check the shape of the dataset\n",
        "print(df.shape)"
      ],
      "execution_count": 6,
      "outputs": [
        {
          "output_type": "stream",
          "text": [
            "(119390, 32)\n"
          ],
          "name": "stdout"
        }
      ]
    },
    {
      "cell_type": "code",
      "metadata": {
        "colab": {
          "base_uri": "https://localhost:8080/"
        },
        "id": "uwpflH-gSgvu",
        "outputId": "efbad694-1b65-438c-9203-0efdc446db3d"
      },
      "source": [
        "# check the datatypes\n",
        "print(df.info())"
      ],
      "execution_count": 7,
      "outputs": [
        {
          "output_type": "stream",
          "text": [
            "<class 'pandas.core.frame.DataFrame'>\n",
            "RangeIndex: 119390 entries, 0 to 119389\n",
            "Data columns (total 32 columns):\n",
            " #   Column                          Non-Null Count   Dtype  \n",
            "---  ------                          --------------   -----  \n",
            " 0   hotel                           119390 non-null  object \n",
            " 1   is_canceled                     119390 non-null  int64  \n",
            " 2   lead_time                       119390 non-null  int64  \n",
            " 3   arrival_date_year               119390 non-null  int64  \n",
            " 4   arrival_date_month              119390 non-null  object \n",
            " 5   arrival_date_week_number        119390 non-null  int64  \n",
            " 6   arrival_date_day_of_month       119390 non-null  int64  \n",
            " 7   stays_in_weekend_nights         119390 non-null  int64  \n",
            " 8   stays_in_week_nights            119390 non-null  int64  \n",
            " 9   adults                          119390 non-null  int64  \n",
            " 10  children                        119386 non-null  float64\n",
            " 11  babies                          119390 non-null  int64  \n",
            " 12  meal                            119390 non-null  object \n",
            " 13  country                         118902 non-null  object \n",
            " 14  market_segment                  119390 non-null  object \n",
            " 15  distribution_channel            119390 non-null  object \n",
            " 16  is_repeated_guest               119390 non-null  int64  \n",
            " 17  previous_cancellations          119390 non-null  int64  \n",
            " 18  previous_bookings_not_canceled  119390 non-null  int64  \n",
            " 19  reserved_room_type              119390 non-null  object \n",
            " 20  assigned_room_type              119390 non-null  object \n",
            " 21  booking_changes                 119390 non-null  int64  \n",
            " 22  deposit_type                    119390 non-null  object \n",
            " 23  agent                           103050 non-null  float64\n",
            " 24  company                         6797 non-null    float64\n",
            " 25  days_in_waiting_list            119390 non-null  int64  \n",
            " 26  customer_type                   119390 non-null  object \n",
            " 27  adr                             119390 non-null  float64\n",
            " 28  required_car_parking_spaces     119390 non-null  int64  \n",
            " 29  total_of_special_requests       119390 non-null  int64  \n",
            " 30  reservation_status              119390 non-null  object \n",
            " 31  reservation_status_date         119390 non-null  object \n",
            "dtypes: float64(4), int64(16), object(12)\n",
            "memory usage: 29.1+ MB\n",
            "None\n"
          ],
          "name": "stdout"
        }
      ]
    },
    {
      "cell_type": "code",
      "metadata": {
        "colab": {
          "base_uri": "https://localhost:8080/",
          "height": 317
        },
        "id": "2D7T6m62SjJO",
        "outputId": "e1112380-80ca-47e5-b8ab-fe9269c4fc76"
      },
      "source": [
        "# data summary\n",
        "df.describe()"
      ],
      "execution_count": 8,
      "outputs": [
        {
          "output_type": "execute_result",
          "data": {
            "text/html": [
              "<div>\n",
              "<style scoped>\n",
              "    .dataframe tbody tr th:only-of-type {\n",
              "        vertical-align: middle;\n",
              "    }\n",
              "\n",
              "    .dataframe tbody tr th {\n",
              "        vertical-align: top;\n",
              "    }\n",
              "\n",
              "    .dataframe thead th {\n",
              "        text-align: right;\n",
              "    }\n",
              "</style>\n",
              "<table border=\"1\" class=\"dataframe\">\n",
              "  <thead>\n",
              "    <tr style=\"text-align: right;\">\n",
              "      <th></th>\n",
              "      <th>is_canceled</th>\n",
              "      <th>lead_time</th>\n",
              "      <th>arrival_date_year</th>\n",
              "      <th>arrival_date_week_number</th>\n",
              "      <th>arrival_date_day_of_month</th>\n",
              "      <th>stays_in_weekend_nights</th>\n",
              "      <th>stays_in_week_nights</th>\n",
              "      <th>adults</th>\n",
              "      <th>children</th>\n",
              "      <th>babies</th>\n",
              "      <th>is_repeated_guest</th>\n",
              "      <th>previous_cancellations</th>\n",
              "      <th>previous_bookings_not_canceled</th>\n",
              "      <th>booking_changes</th>\n",
              "      <th>agent</th>\n",
              "      <th>company</th>\n",
              "      <th>days_in_waiting_list</th>\n",
              "      <th>adr</th>\n",
              "      <th>required_car_parking_spaces</th>\n",
              "      <th>total_of_special_requests</th>\n",
              "    </tr>\n",
              "  </thead>\n",
              "  <tbody>\n",
              "    <tr>\n",
              "      <th>count</th>\n",
              "      <td>119390.000000</td>\n",
              "      <td>119390.000000</td>\n",
              "      <td>119390.000000</td>\n",
              "      <td>119390.000000</td>\n",
              "      <td>119390.000000</td>\n",
              "      <td>119390.000000</td>\n",
              "      <td>119390.000000</td>\n",
              "      <td>119390.000000</td>\n",
              "      <td>119386.000000</td>\n",
              "      <td>119390.000000</td>\n",
              "      <td>119390.000000</td>\n",
              "      <td>119390.000000</td>\n",
              "      <td>119390.000000</td>\n",
              "      <td>119390.000000</td>\n",
              "      <td>103050.000000</td>\n",
              "      <td>6797.000000</td>\n",
              "      <td>119390.000000</td>\n",
              "      <td>119390.000000</td>\n",
              "      <td>119390.000000</td>\n",
              "      <td>119390.000000</td>\n",
              "    </tr>\n",
              "    <tr>\n",
              "      <th>mean</th>\n",
              "      <td>0.370416</td>\n",
              "      <td>104.011416</td>\n",
              "      <td>2016.156554</td>\n",
              "      <td>27.165173</td>\n",
              "      <td>15.798241</td>\n",
              "      <td>0.927599</td>\n",
              "      <td>2.500302</td>\n",
              "      <td>1.856403</td>\n",
              "      <td>0.103890</td>\n",
              "      <td>0.007949</td>\n",
              "      <td>0.031912</td>\n",
              "      <td>0.087118</td>\n",
              "      <td>0.137097</td>\n",
              "      <td>0.221124</td>\n",
              "      <td>86.693382</td>\n",
              "      <td>189.266735</td>\n",
              "      <td>2.321149</td>\n",
              "      <td>101.831122</td>\n",
              "      <td>0.062518</td>\n",
              "      <td>0.571363</td>\n",
              "    </tr>\n",
              "    <tr>\n",
              "      <th>std</th>\n",
              "      <td>0.482918</td>\n",
              "      <td>106.863097</td>\n",
              "      <td>0.707476</td>\n",
              "      <td>13.605138</td>\n",
              "      <td>8.780829</td>\n",
              "      <td>0.998613</td>\n",
              "      <td>1.908286</td>\n",
              "      <td>0.579261</td>\n",
              "      <td>0.398561</td>\n",
              "      <td>0.097436</td>\n",
              "      <td>0.175767</td>\n",
              "      <td>0.844336</td>\n",
              "      <td>1.497437</td>\n",
              "      <td>0.652306</td>\n",
              "      <td>110.774548</td>\n",
              "      <td>131.655015</td>\n",
              "      <td>17.594721</td>\n",
              "      <td>50.535790</td>\n",
              "      <td>0.245291</td>\n",
              "      <td>0.792798</td>\n",
              "    </tr>\n",
              "    <tr>\n",
              "      <th>min</th>\n",
              "      <td>0.000000</td>\n",
              "      <td>0.000000</td>\n",
              "      <td>2015.000000</td>\n",
              "      <td>1.000000</td>\n",
              "      <td>1.000000</td>\n",
              "      <td>0.000000</td>\n",
              "      <td>0.000000</td>\n",
              "      <td>0.000000</td>\n",
              "      <td>0.000000</td>\n",
              "      <td>0.000000</td>\n",
              "      <td>0.000000</td>\n",
              "      <td>0.000000</td>\n",
              "      <td>0.000000</td>\n",
              "      <td>0.000000</td>\n",
              "      <td>1.000000</td>\n",
              "      <td>6.000000</td>\n",
              "      <td>0.000000</td>\n",
              "      <td>-6.380000</td>\n",
              "      <td>0.000000</td>\n",
              "      <td>0.000000</td>\n",
              "    </tr>\n",
              "    <tr>\n",
              "      <th>25%</th>\n",
              "      <td>0.000000</td>\n",
              "      <td>18.000000</td>\n",
              "      <td>2016.000000</td>\n",
              "      <td>16.000000</td>\n",
              "      <td>8.000000</td>\n",
              "      <td>0.000000</td>\n",
              "      <td>1.000000</td>\n",
              "      <td>2.000000</td>\n",
              "      <td>0.000000</td>\n",
              "      <td>0.000000</td>\n",
              "      <td>0.000000</td>\n",
              "      <td>0.000000</td>\n",
              "      <td>0.000000</td>\n",
              "      <td>0.000000</td>\n",
              "      <td>9.000000</td>\n",
              "      <td>62.000000</td>\n",
              "      <td>0.000000</td>\n",
              "      <td>69.290000</td>\n",
              "      <td>0.000000</td>\n",
              "      <td>0.000000</td>\n",
              "    </tr>\n",
              "    <tr>\n",
              "      <th>50%</th>\n",
              "      <td>0.000000</td>\n",
              "      <td>69.000000</td>\n",
              "      <td>2016.000000</td>\n",
              "      <td>28.000000</td>\n",
              "      <td>16.000000</td>\n",
              "      <td>1.000000</td>\n",
              "      <td>2.000000</td>\n",
              "      <td>2.000000</td>\n",
              "      <td>0.000000</td>\n",
              "      <td>0.000000</td>\n",
              "      <td>0.000000</td>\n",
              "      <td>0.000000</td>\n",
              "      <td>0.000000</td>\n",
              "      <td>0.000000</td>\n",
              "      <td>14.000000</td>\n",
              "      <td>179.000000</td>\n",
              "      <td>0.000000</td>\n",
              "      <td>94.575000</td>\n",
              "      <td>0.000000</td>\n",
              "      <td>0.000000</td>\n",
              "    </tr>\n",
              "    <tr>\n",
              "      <th>75%</th>\n",
              "      <td>1.000000</td>\n",
              "      <td>160.000000</td>\n",
              "      <td>2017.000000</td>\n",
              "      <td>38.000000</td>\n",
              "      <td>23.000000</td>\n",
              "      <td>2.000000</td>\n",
              "      <td>3.000000</td>\n",
              "      <td>2.000000</td>\n",
              "      <td>0.000000</td>\n",
              "      <td>0.000000</td>\n",
              "      <td>0.000000</td>\n",
              "      <td>0.000000</td>\n",
              "      <td>0.000000</td>\n",
              "      <td>0.000000</td>\n",
              "      <td>229.000000</td>\n",
              "      <td>270.000000</td>\n",
              "      <td>0.000000</td>\n",
              "      <td>126.000000</td>\n",
              "      <td>0.000000</td>\n",
              "      <td>1.000000</td>\n",
              "    </tr>\n",
              "    <tr>\n",
              "      <th>max</th>\n",
              "      <td>1.000000</td>\n",
              "      <td>737.000000</td>\n",
              "      <td>2017.000000</td>\n",
              "      <td>53.000000</td>\n",
              "      <td>31.000000</td>\n",
              "      <td>19.000000</td>\n",
              "      <td>50.000000</td>\n",
              "      <td>55.000000</td>\n",
              "      <td>10.000000</td>\n",
              "      <td>10.000000</td>\n",
              "      <td>1.000000</td>\n",
              "      <td>26.000000</td>\n",
              "      <td>72.000000</td>\n",
              "      <td>21.000000</td>\n",
              "      <td>535.000000</td>\n",
              "      <td>543.000000</td>\n",
              "      <td>391.000000</td>\n",
              "      <td>5400.000000</td>\n",
              "      <td>8.000000</td>\n",
              "      <td>5.000000</td>\n",
              "    </tr>\n",
              "  </tbody>\n",
              "</table>\n",
              "</div>"
            ],
            "text/plain": [
              "         is_canceled  ...  total_of_special_requests\n",
              "count  119390.000000  ...              119390.000000\n",
              "mean        0.370416  ...                   0.571363\n",
              "std         0.482918  ...                   0.792798\n",
              "min         0.000000  ...                   0.000000\n",
              "25%         0.000000  ...                   0.000000\n",
              "50%         0.000000  ...                   0.000000\n",
              "75%         1.000000  ...                   1.000000\n",
              "max         1.000000  ...                   5.000000\n",
              "\n",
              "[8 rows x 20 columns]"
            ]
          },
          "metadata": {},
          "execution_count": 8
        }
      ]
    },
    {
      "cell_type": "markdown",
      "metadata": {
        "id": "iCpL2Fx2i-H1"
      },
      "source": [
        "The dataset has 32 features (Continuous and Categorical)  with one identified dependant variable which is 'is_canceled'"
      ]
    },
    {
      "cell_type": "code",
      "metadata": {
        "id": "0EcU30uD3kk5"
      },
      "source": [
        "# describe() method show statistical data like count,min,max,mean,etc for numerical values of dataframe\n",
        "# so let's now get the summary for categorical values \n",
        "#df.describe(include='object').transpose()"
      ],
      "execution_count": 9,
      "outputs": []
    },
    {
      "cell_type": "code",
      "metadata": {
        "colab": {
          "base_uri": "https://localhost:8080/"
        },
        "id": "hLg779h_Sl32",
        "outputId": "5bfb9b44-5104-4f66-ceeb-642dcd25c155"
      },
      "source": [
        "# check missing values in the dataset\n",
        "df.isnull().sum().sort_values(ascending=False)"
      ],
      "execution_count": 10,
      "outputs": [
        {
          "output_type": "execute_result",
          "data": {
            "text/plain": [
              "company                           112593\n",
              "agent                              16340\n",
              "country                              488\n",
              "children                               4\n",
              "lead_time                              0\n",
              "arrival_date_year                      0\n",
              "arrival_date_month                     0\n",
              "arrival_date_week_number               0\n",
              "is_canceled                            0\n",
              "market_segment                         0\n",
              "arrival_date_day_of_month              0\n",
              "stays_in_weekend_nights                0\n",
              "stays_in_week_nights                   0\n",
              "adults                                 0\n",
              "babies                                 0\n",
              "meal                                   0\n",
              "reservation_status_date                0\n",
              "distribution_channel                   0\n",
              "reservation_status                     0\n",
              "is_repeated_guest                      0\n",
              "previous_cancellations                 0\n",
              "previous_bookings_not_canceled         0\n",
              "reserved_room_type                     0\n",
              "assigned_room_type                     0\n",
              "booking_changes                        0\n",
              "deposit_type                           0\n",
              "days_in_waiting_list                   0\n",
              "customer_type                          0\n",
              "adr                                    0\n",
              "required_car_parking_spaces            0\n",
              "total_of_special_requests              0\n",
              "hotel                                  0\n",
              "dtype: int64"
            ]
          },
          "metadata": {},
          "execution_count": 10
        }
      ]
    },
    {
      "cell_type": "markdown",
      "metadata": {
        "id": "1PvghBBwxTis"
      },
      "source": [
        "# Data Cleaning and Preparation"
      ]
    },
    {
      "cell_type": "code",
      "metadata": {
        "colab": {
          "base_uri": "https://localhost:8080/",
          "height": 173
        },
        "id": "innC_CKcVemk",
        "outputId": "8b7271a8-7aa8-450b-cfb4-0053b27707d0"
      },
      "source": [
        "# check the count and percentage of null values\n",
        "null_df=pd.DataFrame({'null_values':df.isnull().sum(),\n",
        "                  'null_percent':df.isnull().sum()/df.shape[0]*100})\n",
        "null_df=null_df[null_df['null_values']>0]\n",
        "null_df"
      ],
      "execution_count": 11,
      "outputs": [
        {
          "output_type": "execute_result",
          "data": {
            "text/html": [
              "<div>\n",
              "<style scoped>\n",
              "    .dataframe tbody tr th:only-of-type {\n",
              "        vertical-align: middle;\n",
              "    }\n",
              "\n",
              "    .dataframe tbody tr th {\n",
              "        vertical-align: top;\n",
              "    }\n",
              "\n",
              "    .dataframe thead th {\n",
              "        text-align: right;\n",
              "    }\n",
              "</style>\n",
              "<table border=\"1\" class=\"dataframe\">\n",
              "  <thead>\n",
              "    <tr style=\"text-align: right;\">\n",
              "      <th></th>\n",
              "      <th>null_values</th>\n",
              "      <th>null_percent</th>\n",
              "    </tr>\n",
              "  </thead>\n",
              "  <tbody>\n",
              "    <tr>\n",
              "      <th>children</th>\n",
              "      <td>4</td>\n",
              "      <td>0.003350</td>\n",
              "    </tr>\n",
              "    <tr>\n",
              "      <th>country</th>\n",
              "      <td>488</td>\n",
              "      <td>0.408744</td>\n",
              "    </tr>\n",
              "    <tr>\n",
              "      <th>agent</th>\n",
              "      <td>16340</td>\n",
              "      <td>13.686238</td>\n",
              "    </tr>\n",
              "    <tr>\n",
              "      <th>company</th>\n",
              "      <td>112593</td>\n",
              "      <td>94.306893</td>\n",
              "    </tr>\n",
              "  </tbody>\n",
              "</table>\n",
              "</div>"
            ],
            "text/plain": [
              "          null_values  null_percent\n",
              "children            4      0.003350\n",
              "country           488      0.408744\n",
              "agent           16340     13.686238\n",
              "company        112593     94.306893"
            ]
          },
          "metadata": {},
          "execution_count": 11
        }
      ]
    },
    {
      "cell_type": "code",
      "metadata": {
        "colab": {
          "base_uri": "https://localhost:8080/"
        },
        "id": "LqREf7iJVeTk",
        "outputId": "83936c0e-ec5d-4583-92c0-298280bf3856"
      },
      "source": [
        "# company has a lot of null values so it is deleted and  \n",
        "# reservation_status will not be relevant for our data analysis purpose, so drop this columns.\n",
        "\n",
        "df = df.drop(['company','reservation_status_date'], axis=1)\n",
        "print(df.shape)"
      ],
      "execution_count": 12,
      "outputs": [
        {
          "output_type": "stream",
          "text": [
            "(119390, 30)\n"
          ],
          "name": "stdout"
        }
      ]
    },
    {
      "cell_type": "code",
      "metadata": {
        "colab": {
          "base_uri": "https://localhost:8080/"
        },
        "id": "kCpPdEuSVeGz",
        "outputId": "d8a92dea-9449-4e6b-d253-edd63a5432fa"
      },
      "source": [
        "# children country and agent has less than 20% missing values\n",
        "# so missing values can be imputed using global constants\n",
        "# fill null values in agent with 0 because it can be assumed that booking was without agent\n",
        "# same with children and fill null values in country with global constant ('Unknown')\n",
        "\n",
        "null_replace = {'children' : 0, 'country' : 'Unknown', 'agent': 0}\n",
        "\n",
        "df = df.fillna(null_replace)\n",
        "df.isnull().sum()"
      ],
      "execution_count": 13,
      "outputs": [
        {
          "output_type": "execute_result",
          "data": {
            "text/plain": [
              "hotel                             0\n",
              "is_canceled                       0\n",
              "lead_time                         0\n",
              "arrival_date_year                 0\n",
              "arrival_date_month                0\n",
              "arrival_date_week_number          0\n",
              "arrival_date_day_of_month         0\n",
              "stays_in_weekend_nights           0\n",
              "stays_in_week_nights              0\n",
              "adults                            0\n",
              "children                          0\n",
              "babies                            0\n",
              "meal                              0\n",
              "country                           0\n",
              "market_segment                    0\n",
              "distribution_channel              0\n",
              "is_repeated_guest                 0\n",
              "previous_cancellations            0\n",
              "previous_bookings_not_canceled    0\n",
              "reserved_room_type                0\n",
              "assigned_room_type                0\n",
              "booking_changes                   0\n",
              "deposit_type                      0\n",
              "agent                             0\n",
              "days_in_waiting_list              0\n",
              "customer_type                     0\n",
              "adr                               0\n",
              "required_car_parking_spaces       0\n",
              "total_of_special_requests         0\n",
              "reservation_status                0\n",
              "dtype: int64"
            ]
          },
          "metadata": {},
          "execution_count": 13
        }
      ]
    },
    {
      "cell_type": "code",
      "metadata": {
        "colab": {
          "base_uri": "https://localhost:8080/"
        },
        "id": "NojqrzoYVdyj",
        "outputId": "b17377d5-a78e-40af-de7a-c70f9d95901c"
      },
      "source": [
        "# after handling the missing values\n",
        "print(df.isnull().sum())"
      ],
      "execution_count": 14,
      "outputs": [
        {
          "output_type": "stream",
          "text": [
            "hotel                             0\n",
            "is_canceled                       0\n",
            "lead_time                         0\n",
            "arrival_date_year                 0\n",
            "arrival_date_month                0\n",
            "arrival_date_week_number          0\n",
            "arrival_date_day_of_month         0\n",
            "stays_in_weekend_nights           0\n",
            "stays_in_week_nights              0\n",
            "adults                            0\n",
            "children                          0\n",
            "babies                            0\n",
            "meal                              0\n",
            "country                           0\n",
            "market_segment                    0\n",
            "distribution_channel              0\n",
            "is_repeated_guest                 0\n",
            "previous_cancellations            0\n",
            "previous_bookings_not_canceled    0\n",
            "reserved_room_type                0\n",
            "assigned_room_type                0\n",
            "booking_changes                   0\n",
            "deposit_type                      0\n",
            "agent                             0\n",
            "days_in_waiting_list              0\n",
            "customer_type                     0\n",
            "adr                               0\n",
            "required_car_parking_spaces       0\n",
            "total_of_special_requests         0\n",
            "reservation_status                0\n",
            "dtype: int64\n"
          ],
          "name": "stdout"
        }
      ]
    },
    {
      "cell_type": "code",
      "metadata": {
        "id": "gULbGUrrkC0f"
      },
      "source": [
        "# let's create a new column to indicate\n",
        "# 0 - reserved room and assigned room is different\n",
        "# 1 - reserved room and assigned room is same\n",
        "df['same_room'] = np.where(df['reserved_room_type']==df['assigned_room_type'],'1', '0') "
      ],
      "execution_count": 15,
      "outputs": []
    },
    {
      "cell_type": "code",
      "metadata": {
        "colab": {
          "base_uri": "https://localhost:8080/"
        },
        "id": "QeVNVNE8kDWP",
        "outputId": "42374bcc-aeb1-464e-e12c-020a4d8abf52"
      },
      "source": [
        "df['same_room'].value_counts()"
      ],
      "execution_count": 16,
      "outputs": [
        {
          "output_type": "execute_result",
          "data": {
            "text/plain": [
              "1    104473\n",
              "0     14917\n",
              "Name: same_room, dtype: int64"
            ]
          },
          "metadata": {},
          "execution_count": 16
        }
      ]
    },
    {
      "cell_type": "code",
      "metadata": {
        "id": "L8FbuJtRJ7kc",
        "colab": {
          "base_uri": "https://localhost:8080/"
        },
        "outputId": "de7ea683-4e17-4b6a-bbe0-d4e90902a8d3"
      },
      "source": [
        "# create a list of categorical and numerical columns \n",
        "cat_cols=[\"hotel\",\"arrival_date_month\",\"meal\",\"country\",\"market_segment\",\"is_canceled\",\n",
        "          \"distribution_channel\",\"reserved_room_type\",\"assigned_room_type\",\"deposit_type\",\n",
        "          \"customer_type\",\"reservation_status\",\"is_repeated_guest\",\"same_room\"]\n",
        "print(\"Categorical columns:\",cat_cols)\n",
        "\n",
        "num_cols = [col for col in df.columns if col not in cat_cols]\n",
        "print(\"Numerical columns:\",num_cols)"
      ],
      "execution_count": 17,
      "outputs": [
        {
          "output_type": "stream",
          "text": [
            "Categorical columns: ['hotel', 'arrival_date_month', 'meal', 'country', 'market_segment', 'is_canceled', 'distribution_channel', 'reserved_room_type', 'assigned_room_type', 'deposit_type', 'customer_type', 'reservation_status', 'is_repeated_guest', 'same_room']\n",
            "Numerical columns: ['lead_time', 'arrival_date_year', 'arrival_date_week_number', 'arrival_date_day_of_month', 'stays_in_weekend_nights', 'stays_in_week_nights', 'adults', 'children', 'babies', 'previous_cancellations', 'previous_bookings_not_canceled', 'booking_changes', 'agent', 'days_in_waiting_list', 'adr', 'required_car_parking_spaces', 'total_of_special_requests']\n"
          ],
          "name": "stdout"
        }
      ]
    },
    {
      "cell_type": "code",
      "metadata": {
        "id": "Gh5gJHghxLSM"
      },
      "source": [
        "#plt.figure(figsize=(16,9))\n",
        "#sns.heatmap(data.isnull())\n",
        "#plt.show()"
      ],
      "execution_count": null,
      "outputs": []
    },
    {
      "cell_type": "markdown",
      "metadata": {
        "id": "kFrjSAV6fA9-"
      },
      "source": [
        "# **Exploratory Analysis and Visualization**"
      ]
    },
    {
      "cell_type": "markdown",
      "metadata": {
        "id": "EaALGcOagUOm"
      },
      "source": [
        ""
      ]
    },
    {
      "cell_type": "markdown",
      "metadata": {
        "id": "eRqdbZ68ex_p"
      },
      "source": [
        "# **What is the cancellation rate of both the types of hotels?**"
      ]
    },
    {
      "cell_type": "code",
      "metadata": {
        "colab": {
          "base_uri": "https://localhost:8080/",
          "height": 295
        },
        "id": "iWb59FQNePy2",
        "outputId": "17dba58c-b702-4908-97ce-bc4c7dd04e82"
      },
      "source": [
        "plt.figure(figsize=(6,4))\n",
        "sns.countplot(df['hotel'], data = df, hue='is_canceled',\n",
        "              palette = ['teal','lightblue'], edgecolor='k');\n",
        "plt.title(\"Distribution of the hotel based on the booking status\")\n",
        "plt.show()"
      ],
      "execution_count": 25,
      "outputs": [
        {
          "output_type": "display_data",
          "data": {
            "image/png": "[encoded data removed]",
            "text/plain": [
              "<Figure size 432x288 with 1 Axes>"
            ]
          },
          "metadata": {
            "needs_background": "light"
          }
        }
      ]
    },
    {
      "cell_type": "markdown",
      "metadata": {
        "id": "lTPj0C_Je-5p"
      },
      "source": [
        "# Which was the mostly booked accommodation type?"
      ]
    },
    {
      "cell_type": "code",
      "metadata": {
        "colab": {
          "base_uri": "https://localhost:8080/",
          "height": 405
        },
        "id": "1Vlkg6u_ePg5",
        "outputId": "9880ccc3-73a1-45d5-8c31-9cefc23baa0a"
      },
      "source": [
        "#For further analysis, Select only those booking which did not get cancelled.\n",
        "df_not_canceled = df[df['is_canceled'] == 0]\n",
        "\n",
        "# Select single, couple, adults and family\n",
        "single   = df_not_canceled[(df_not_canceled.adults==1) & (df_not_canceled.children==0) & (df_not_canceled.babies==0)]\n",
        "couple   = df_not_canceled[(df_not_canceled.adults==2) & (df_not_canceled.children==0) & (df_not_canceled.babies==0)]\n",
        "adults = df_not_canceled[(df_not_canceled.adults>2) & (df_not_canceled.children==0) & (df_not_canceled.babies==0)]\n",
        "family   = df_not_canceled[df_not_canceled.adults + df_not_canceled.children + df_not_canceled.babies > 2]\n",
        "\n",
        "# create the list of Category names and its total percentage\n",
        "#names = ['Single', 'Couple (No Children)', 'Family / Friends', 'Adults_group']\n",
        "#count = [single.shape[0],couple.shape[0], family.shape[0], adults.shape[0]]\n",
        "#count_percent = [x/df_not_canceled.shape[0]*100 for x in count]\n",
        "names = ['Single', 'Couple (No Children)', 'Family / Friends', 'Adults_group']\n",
        "count = [single.shape[0],couple.shape[0], family.shape[0],adults.shape[0]]\n",
        "count_percent = [x/df_not_canceled.shape[0]*100 for x in count]\n",
        "\n",
        "\n",
        "\n",
        "plt.figure(figsize=(8,6))\n",
        "sns.barplot(x=names, y=count_percent, data=df, palette='hot',\n",
        "            edgecolor='k')\n",
        "plt.title(\"Type of Accommodation\")\n",
        "plt.xlabel('Accomodations')\n",
        "plt.ylabel('Booking in %')\n",
        "plt.show()"
      ],
      "execution_count": 26,
      "outputs": [
        {
          "output_type": "display_data",
          "data": {
            "image/png": "[encoded data removed]",
            "text/plain": [
              "<Figure size 576x432 with 1 Axes>"
            ]
          },
          "metadata": {
            "needs_background": "light"
          }
        }
      ]
    },
    {
      "cell_type": "markdown",
      "metadata": {
        "id": "a9KYKUfu8Nxx"
      },
      "source": [
        "# **Where do the guests come from?**"
      ]
    },
    {
      "cell_type": "code",
      "metadata": {
        "colab": {
          "base_uri": "https://localhost:8080/",
          "height": 359
        },
        "id": "jMNeLKEc6x5y",
        "outputId": "ebb9cfad-5474-4ee6-c46b-2bf977965fde"
      },
      "source": [
        "country_booking = df['country'].value_counts(normalize=True).rename_axis('country').reset_index(name='Percentage')\n",
        "country_booking.head(10)"
      ],
      "execution_count": 27,
      "outputs": [
        {
          "output_type": "execute_result",
          "data": {
            "text/html": [
              "<div>\n",
              "<style scoped>\n",
              "    .dataframe tbody tr th:only-of-type {\n",
              "        vertical-align: middle;\n",
              "    }\n",
              "\n",
              "    .dataframe tbody tr th {\n",
              "        vertical-align: top;\n",
              "    }\n",
              "\n",
              "    .dataframe thead th {\n",
              "        text-align: right;\n",
              "    }\n",
              "</style>\n",
              "<table border=\"1\" class=\"dataframe\">\n",
              "  <thead>\n",
              "    <tr style=\"text-align: right;\">\n",
              "      <th></th>\n",
              "      <th>country</th>\n",
              "      <th>Percentage</th>\n",
              "    </tr>\n",
              "  </thead>\n",
              "  <tbody>\n",
              "    <tr>\n",
              "      <th>0</th>\n",
              "      <td>PRT</td>\n",
              "      <td>0.406986</td>\n",
              "    </tr>\n",
              "    <tr>\n",
              "      <th>1</th>\n",
              "      <td>GBR</td>\n",
              "      <td>0.101591</td>\n",
              "    </tr>\n",
              "    <tr>\n",
              "      <th>2</th>\n",
              "      <td>FRA</td>\n",
              "      <td>0.087235</td>\n",
              "    </tr>\n",
              "    <tr>\n",
              "      <th>3</th>\n",
              "      <td>ESP</td>\n",
              "      <td>0.071765</td>\n",
              "    </tr>\n",
              "    <tr>\n",
              "      <th>4</th>\n",
              "      <td>DEU</td>\n",
              "      <td>0.061035</td>\n",
              "    </tr>\n",
              "    <tr>\n",
              "      <th>5</th>\n",
              "      <td>ITA</td>\n",
              "      <td>0.031544</td>\n",
              "    </tr>\n",
              "    <tr>\n",
              "      <th>6</th>\n",
              "      <td>IRL</td>\n",
              "      <td>0.028269</td>\n",
              "    </tr>\n",
              "    <tr>\n",
              "      <th>7</th>\n",
              "      <td>BEL</td>\n",
              "      <td>0.019616</td>\n",
              "    </tr>\n",
              "    <tr>\n",
              "      <th>8</th>\n",
              "      <td>BRA</td>\n",
              "      <td>0.018628</td>\n",
              "    </tr>\n",
              "    <tr>\n",
              "      <th>9</th>\n",
              "      <td>NLD</td>\n",
              "      <td>0.017623</td>\n",
              "    </tr>\n",
              "  </tbody>\n",
              "</table>\n",
              "</div>"
            ],
            "text/plain": [
              "  country  Percentage\n",
              "0     PRT    0.406986\n",
              "1     GBR    0.101591\n",
              "2     FRA    0.087235\n",
              "3     ESP    0.071765\n",
              "4     DEU    0.061035\n",
              "5     ITA    0.031544\n",
              "6     IRL    0.028269\n",
              "7     BEL    0.019616\n",
              "8     BRA    0.018628\n",
              "9     NLD    0.017623"
            ]
          },
          "metadata": {},
          "execution_count": 27
        }
      ]
    },
    {
      "cell_type": "code",
      "metadata": {
        "colab": {
          "base_uri": "https://localhost:8080/",
          "height": 404
        },
        "id": "_MIwUi2e6x07",
        "outputId": "24b1daad-a038-4202-fc0a-1df56a8b670d"
      },
      "source": [
        "plt.figure(figsize=(10,6))\n",
        "sns.barplot(x='country', y='Percentage', data=country_booking.head(10),\n",
        "           palette = 'Dark2', edgecolor='k')\n",
        "plt.title('Country of Customers')\n",
        "plt.show()"
      ],
      "execution_count": 28,
      "outputs": [
        {
          "output_type": "display_data",
          "data": {
            "image/png": "[encoded data removed]",
            "text/plain": [
              "<Figure size 720x432 with 1 Axes>"
            ]
          },
          "metadata": {
            "needs_background": "light"
          }
        }
      ]
    },
    {
      "cell_type": "markdown",
      "metadata": {
        "id": "f9s842Qt8aX8"
      },
      "source": [
        "# **Which year and month has the maximum number of bookings?**"
      ]
    },
    {
      "cell_type": "code",
      "metadata": {
        "colab": {
          "base_uri": "https://localhost:8080/",
          "height": 736
        },
        "id": "6GUkm6F96xva",
        "outputId": "cd989ac6-74d6-4c3d-f35b-9f5ddbfad715"
      },
      "source": [
        "# arrival per year and month\n",
        "plt.figure(figsize=(10, 12))\n",
        "plt.subplot(2, 1, 1)\n",
        "sns.countplot(x='arrival_date_year',hue='hotel', data=df,\n",
        "              palette=['teal','lightgreen'])\n",
        "plt.title(\"Number of Booking per year in each hotel \", size=20)\n",
        "\n",
        "months=['January', 'February', 'March', 'April', 'May', 'June', 'July',\n",
        "       'August','September', 'October', 'November', 'December']\n",
        "plt.subplot(2, 1, 2)\n",
        "sns.countplot(x = 'arrival_date_month', hue='hotel', data=df, order=months,\n",
        "              palette=['teal','lightgreen'])\n",
        "plt.title('Number of Bookings per month', size=20)\n",
        "#plt.subplots_adjust(right=1.7)\n",
        "\n",
        "plt.show()"
      ],
      "execution_count": 39,
      "outputs": [
        {
          "output_type": "display_data",
          "data": {
            "image/png": "[encoded data removed]",
            "text/plain": [
              "<Figure size 720x864 with 2 Axes>"
            ]
          },
          "metadata": {
            "needs_background": "light"
          }
        }
      ]
    },
    {
      "cell_type": "markdown",
      "metadata": {
        "id": "mRUVMTDJQwcd"
      },
      "source": [
        "We can see most of the bookings were in the year 2016 and bookings were done in City hotel\n",
        "Most bookings were done in the month of May,June, July, August.\n",
        "It is clear that August, July and May are the most occupied months in case of both City and Resort Hotels"
      ]
    },
    {
      "cell_type": "markdown",
      "metadata": {
        "id": "T380LHTp-hH4"
      },
      "source": [
        "# **Which nationals make the highest number of reservations?**"
      ]
    },
    {
      "cell_type": "code",
      "metadata": {
        "id": "rvtSX3fI6xew"
      },
      "source": [
        "# Create data of  top 10 countries\n",
        "df_prt = df[df['country'] == 'PRT']\n",
        "df_gbr = df[df['country'] == 'GBR']\n",
        "df_fra = df[df['country'] == 'FRA']\n",
        "df_esp = df[df['country'] == 'ESP']\n",
        "df_deu = df[df['country'] == 'DEU']\n",
        "df_ita = df[df['country'] == 'ITA']\n",
        "df_irl = df[df['country'] == 'IRL']\n",
        "df_bel = df[df['country'] == 'BEL']\n",
        "df_bra = df[df['country'] == 'BRA']\n",
        "df_nld = df[df['country'] == 'NLD']\n",
        "\n",
        "# Create a dataset by combining data of top 10 countries\n",
        "df_top10 = pd.concat([df_fra, df_gbr, df_prt, df_deu, df_esp,\n",
        "                        df_ita,df_irl, df_bel, df_bra, df_nld]).reset_index(drop=True)"
      ],
      "execution_count": 40,
      "outputs": []
    },
    {
      "cell_type": "code",
      "metadata": {
        "colab": {
          "base_uri": "https://localhost:8080/"
        },
        "id": "wcf24MEA6xXR",
        "outputId": "aff5516f-1492-4abf-aa8c-6544357dac81"
      },
      "source": [
        "reservations = df_top10.groupby(['country','reservation_status']).lead_time.count()\n",
        "print(reservations)"
      ],
      "execution_count": 41,
      "outputs": [
        {
          "output_type": "stream",
          "text": [
            "country  reservation_status\n",
            "BEL      Canceled                464\n",
            "         Check-Out              1868\n",
            "         No-Show                  10\n",
            "BRA      Canceled                799\n",
            "         Check-Out              1394\n",
            "         No-Show                  31\n",
            "DEU      Canceled               1205\n",
            "         Check-Out              6069\n",
            "         No-Show                  13\n",
            "ESP      Canceled               2145\n",
            "         Check-Out              6391\n",
            "         No-Show                  32\n",
            "FRA      Canceled               1902\n",
            "         Check-Out              8481\n",
            "         No-Show                  32\n",
            "GBR      Canceled               2412\n",
            "         Check-Out              9676\n",
            "         No-Show                  41\n",
            "IRL      Canceled                825\n",
            "         Check-Out              2543\n",
            "         No-Show                   7\n",
            "ITA      Canceled               1315\n",
            "         Check-Out              2433\n",
            "         No-Show                  18\n",
            "NLD      Canceled                382\n",
            "         Check-Out              1717\n",
            "         No-Show                   5\n",
            "PRT      Canceled              26756\n",
            "         Check-Out             21071\n",
            "         No-Show                 763\n",
            "Name: lead_time, dtype: int64\n"
          ],
          "name": "stdout"
        }
      ]
    },
    {
      "cell_type": "code",
      "metadata": {
        "colab": {
          "base_uri": "https://localhost:8080/",
          "height": 519
        },
        "id": "11mUUTVI6xSv",
        "outputId": "32e607cc-7a80-4b46-e8df-0a20091db829"
      },
      "source": [
        "plt.figure(figsize = (12, 8))\n",
        "sns.barplot(x = 'lead_time', y = 'country', hue = 'reservation_status',\n",
        "            data = reservations.reset_index(), palette = 'hot')\n",
        "plt.title('Reservation Status for Each Country', fontsize = 16)\n",
        "plt.xlabel('count', fontsize = 14)\n",
        "plt.ylabel('Top 10 Countries', fontsize = 14)\n",
        "L=plt.legend()\n",
        "plt.show()"
      ],
      "execution_count": 49,
      "outputs": [
        {
          "output_type": "display_data",
          "data": {
            "image/png": "[encoded data removed]",
            "text/plain": [
              "<Figure size 864x576 with 1 Axes>"
            ]
          },
          "metadata": {
            "needs_background": "light"
          }
        }
      ]
    },
    {
      "cell_type": "markdown",
      "metadata": {
        "id": "9WUGADJsRY5_"
      },
      "source": [
        "The above graph depicts that Portugal has the most number of reservations, but it also has more cancelations than check-outs.\\\n",
        "Portuguese nationals make the highest number of reservations. But the number of cancellation is higher than the number of checkouts"
      ]
    },
    {
      "cell_type": "markdown",
      "metadata": {
        "id": "DMoMlFXp-t1U"
      },
      "source": [
        "# **Which month has maximum number of special requests each year?**"
      ]
    },
    {
      "cell_type": "code",
      "metadata": {
        "colab": {
          "base_uri": "https://localhost:8080/",
          "height": 419
        },
        "id": "NGRZsNuK6xNo",
        "outputId": "c5390cad-c8bd-4fef-c563-66c36b4ece17"
      },
      "source": [
        "special_request = df[df['total_of_special_requests'] != 0][['arrival_date_year','arrival_date_month','total_of_special_requests']]\n",
        "special_request"
      ],
      "execution_count": 50,
      "outputs": [
        {
          "output_type": "execute_result",
          "data": {
            "text/html": [
              "<div>\n",
              "<style scoped>\n",
              "    .dataframe tbody tr th:only-of-type {\n",
              "        vertical-align: middle;\n",
              "    }\n",
              "\n",
              "    .dataframe tbody tr th {\n",
              "        vertical-align: top;\n",
              "    }\n",
              "\n",
              "    .dataframe thead th {\n",
              "        text-align: right;\n",
              "    }\n",
              "</style>\n",
              "<table border=\"1\" class=\"dataframe\">\n",
              "  <thead>\n",
              "    <tr style=\"text-align: right;\">\n",
              "      <th></th>\n",
              "      <th>arrival_date_year</th>\n",
              "      <th>arrival_date_month</th>\n",
              "      <th>total_of_special_requests</th>\n",
              "    </tr>\n",
              "  </thead>\n",
              "  <tbody>\n",
              "    <tr>\n",
              "      <th>4</th>\n",
              "      <td>2015</td>\n",
              "      <td>July</td>\n",
              "      <td>1</td>\n",
              "    </tr>\n",
              "    <tr>\n",
              "      <th>5</th>\n",
              "      <td>2015</td>\n",
              "      <td>July</td>\n",
              "      <td>1</td>\n",
              "    </tr>\n",
              "    <tr>\n",
              "      <th>7</th>\n",
              "      <td>2015</td>\n",
              "      <td>July</td>\n",
              "      <td>1</td>\n",
              "    </tr>\n",
              "    <tr>\n",
              "      <th>8</th>\n",
              "      <td>2015</td>\n",
              "      <td>July</td>\n",
              "      <td>1</td>\n",
              "    </tr>\n",
              "    <tr>\n",
              "      <th>12</th>\n",
              "      <td>2015</td>\n",
              "      <td>July</td>\n",
              "      <td>3</td>\n",
              "    </tr>\n",
              "    <tr>\n",
              "      <th>...</th>\n",
              "      <td>...</td>\n",
              "      <td>...</td>\n",
              "      <td>...</td>\n",
              "    </tr>\n",
              "    <tr>\n",
              "      <th>119380</th>\n",
              "      <td>2017</td>\n",
              "      <td>August</td>\n",
              "      <td>1</td>\n",
              "    </tr>\n",
              "    <tr>\n",
              "      <th>119384</th>\n",
              "      <td>2017</td>\n",
              "      <td>August</td>\n",
              "      <td>2</td>\n",
              "    </tr>\n",
              "    <tr>\n",
              "      <th>119386</th>\n",
              "      <td>2017</td>\n",
              "      <td>August</td>\n",
              "      <td>2</td>\n",
              "    </tr>\n",
              "    <tr>\n",
              "      <th>119387</th>\n",
              "      <td>2017</td>\n",
              "      <td>August</td>\n",
              "      <td>4</td>\n",
              "    </tr>\n",
              "    <tr>\n",
              "      <th>119389</th>\n",
              "      <td>2017</td>\n",
              "      <td>August</td>\n",
              "      <td>2</td>\n",
              "    </tr>\n",
              "  </tbody>\n",
              "</table>\n",
              "<p>49072 rows × 3 columns</p>\n",
              "</div>"
            ],
            "text/plain": [
              "        arrival_date_year arrival_date_month  total_of_special_requests\n",
              "4                    2015               July                          1\n",
              "5                    2015               July                          1\n",
              "7                    2015               July                          1\n",
              "8                    2015               July                          1\n",
              "12                   2015               July                          3\n",
              "...                   ...                ...                        ...\n",
              "119380               2017             August                          1\n",
              "119384               2017             August                          2\n",
              "119386               2017             August                          2\n",
              "119387               2017             August                          4\n",
              "119389               2017             August                          2\n",
              "\n",
              "[49072 rows x 3 columns]"
            ]
          },
          "metadata": {},
          "execution_count": 50
        }
      ]
    },
    {
      "cell_type": "code",
      "metadata": {
        "colab": {
          "base_uri": "https://localhost:8080/",
          "height": 419
        },
        "id": "nWTytrgI-0Xt",
        "outputId": "2a468de3-328b-4eed-cb69-f93be4be0afe"
      },
      "source": [
        "special_req_2015 = df[(df['arrival_date_year'] == 2015) & (df['total_of_special_requests'] != 0)][['arrival_date_month','total_of_special_requests']]\n",
        "special_req_2015"
      ],
      "execution_count": 51,
      "outputs": [
        {
          "output_type": "execute_result",
          "data": {
            "text/html": [
              "<div>\n",
              "<style scoped>\n",
              "    .dataframe tbody tr th:only-of-type {\n",
              "        vertical-align: middle;\n",
              "    }\n",
              "\n",
              "    .dataframe tbody tr th {\n",
              "        vertical-align: top;\n",
              "    }\n",
              "\n",
              "    .dataframe thead th {\n",
              "        text-align: right;\n",
              "    }\n",
              "</style>\n",
              "<table border=\"1\" class=\"dataframe\">\n",
              "  <thead>\n",
              "    <tr style=\"text-align: right;\">\n",
              "      <th></th>\n",
              "      <th>arrival_date_month</th>\n",
              "      <th>total_of_special_requests</th>\n",
              "    </tr>\n",
              "  </thead>\n",
              "  <tbody>\n",
              "    <tr>\n",
              "      <th>4</th>\n",
              "      <td>July</td>\n",
              "      <td>1</td>\n",
              "    </tr>\n",
              "    <tr>\n",
              "      <th>5</th>\n",
              "      <td>July</td>\n",
              "      <td>1</td>\n",
              "    </tr>\n",
              "    <tr>\n",
              "      <th>7</th>\n",
              "      <td>July</td>\n",
              "      <td>1</td>\n",
              "    </tr>\n",
              "    <tr>\n",
              "      <th>8</th>\n",
              "      <td>July</td>\n",
              "      <td>1</td>\n",
              "    </tr>\n",
              "    <tr>\n",
              "      <th>12</th>\n",
              "      <td>July</td>\n",
              "      <td>3</td>\n",
              "    </tr>\n",
              "    <tr>\n",
              "      <th>...</th>\n",
              "      <td>...</td>\n",
              "      <td>...</td>\n",
              "    </tr>\n",
              "    <tr>\n",
              "      <th>82645</th>\n",
              "      <td>December</td>\n",
              "      <td>2</td>\n",
              "    </tr>\n",
              "    <tr>\n",
              "      <th>82650</th>\n",
              "      <td>December</td>\n",
              "      <td>2</td>\n",
              "    </tr>\n",
              "    <tr>\n",
              "      <th>82732</th>\n",
              "      <td>December</td>\n",
              "      <td>1</td>\n",
              "    </tr>\n",
              "    <tr>\n",
              "      <th>82958</th>\n",
              "      <td>August</td>\n",
              "      <td>1</td>\n",
              "    </tr>\n",
              "    <tr>\n",
              "      <th>103758</th>\n",
              "      <td>October</td>\n",
              "      <td>1</td>\n",
              "    </tr>\n",
              "  </tbody>\n",
              "</table>\n",
              "<p>6683 rows × 2 columns</p>\n",
              "</div>"
            ],
            "text/plain": [
              "       arrival_date_month  total_of_special_requests\n",
              "4                    July                          1\n",
              "5                    July                          1\n",
              "7                    July                          1\n",
              "8                    July                          1\n",
              "12                   July                          3\n",
              "...                   ...                        ...\n",
              "82645            December                          2\n",
              "82650            December                          2\n",
              "82732            December                          1\n",
              "82958              August                          1\n",
              "103758            October                          1\n",
              "\n",
              "[6683 rows x 2 columns]"
            ]
          },
          "metadata": {},
          "execution_count": 51
        }
      ]
    },
    {
      "cell_type": "code",
      "metadata": {
        "id": "xjx4p-Z_-0PT"
      },
      "source": [
        "# Sorting months in month wise\n",
        "months = special_req_2015.arrival_date_month.unique()\n",
        "special_req_2015['arrival_date_month'] = pd.Categorical(special_req_2015['arrival_date_month'], categories=months, ordered=True)"
      ],
      "execution_count": 52,
      "outputs": []
    },
    {
      "cell_type": "code",
      "metadata": {
        "colab": {
          "base_uri": "https://localhost:8080/",
          "height": 235
        },
        "id": "sSFamLzG-0JH",
        "outputId": "9cf3b041-90a1-4feb-df73-536e8d05b489"
      },
      "source": [
        "month_wise_special_req_2015 = special_req_2015.groupby('arrival_date_month')['total_of_special_requests'].sum().reset_index()\n",
        "month_wise_special_req_2015"
      ],
      "execution_count": 53,
      "outputs": [
        {
          "output_type": "execute_result",
          "data": {
            "text/html": [
              "<div>\n",
              "<style scoped>\n",
              "    .dataframe tbody tr th:only-of-type {\n",
              "        vertical-align: middle;\n",
              "    }\n",
              "\n",
              "    .dataframe tbody tr th {\n",
              "        vertical-align: top;\n",
              "    }\n",
              "\n",
              "    .dataframe thead th {\n",
              "        text-align: right;\n",
              "    }\n",
              "</style>\n",
              "<table border=\"1\" class=\"dataframe\">\n",
              "  <thead>\n",
              "    <tr style=\"text-align: right;\">\n",
              "      <th></th>\n",
              "      <th>arrival_date_month</th>\n",
              "      <th>total_of_special_requests</th>\n",
              "    </tr>\n",
              "  </thead>\n",
              "  <tbody>\n",
              "    <tr>\n",
              "      <th>0</th>\n",
              "      <td>July</td>\n",
              "      <td>1226</td>\n",
              "    </tr>\n",
              "    <tr>\n",
              "      <th>1</th>\n",
              "      <td>August</td>\n",
              "      <td>2188</td>\n",
              "    </tr>\n",
              "    <tr>\n",
              "      <th>2</th>\n",
              "      <td>September</td>\n",
              "      <td>1869</td>\n",
              "    </tr>\n",
              "    <tr>\n",
              "      <th>3</th>\n",
              "      <td>October</td>\n",
              "      <td>1953</td>\n",
              "    </tr>\n",
              "    <tr>\n",
              "      <th>4</th>\n",
              "      <td>November</td>\n",
              "      <td>950</td>\n",
              "    </tr>\n",
              "    <tr>\n",
              "      <th>5</th>\n",
              "      <td>December</td>\n",
              "      <td>1392</td>\n",
              "    </tr>\n",
              "  </tbody>\n",
              "</table>\n",
              "</div>"
            ],
            "text/plain": [
              "  arrival_date_month  total_of_special_requests\n",
              "0               July                       1226\n",
              "1             August                       2188\n",
              "2          September                       1869\n",
              "3            October                       1953\n",
              "4           November                        950\n",
              "5           December                       1392"
            ]
          },
          "metadata": {},
          "execution_count": 53
        }
      ]
    },
    {
      "cell_type": "code",
      "metadata": {
        "colab": {
          "base_uri": "https://localhost:8080/",
          "height": 204
        },
        "id": "Go-YZ8sE-0Ct",
        "outputId": "d661543e-cded-4a8d-e168-ff04f2100faa"
      },
      "source": [
        "special_req_2016 = df[(df['arrival_date_year'] == 2016) & (df['total_of_special_requests'] != 0)][['arrival_date_month','total_of_special_requests']]\n",
        "special_req_2016.head()"
      ],
      "execution_count": 54,
      "outputs": [
        {
          "output_type": "execute_result",
          "data": {
            "text/html": [
              "<div>\n",
              "<style scoped>\n",
              "    .dataframe tbody tr th:only-of-type {\n",
              "        vertical-align: middle;\n",
              "    }\n",
              "\n",
              "    .dataframe tbody tr th {\n",
              "        vertical-align: top;\n",
              "    }\n",
              "\n",
              "    .dataframe thead th {\n",
              "        text-align: right;\n",
              "    }\n",
              "</style>\n",
              "<table border=\"1\" class=\"dataframe\">\n",
              "  <thead>\n",
              "    <tr style=\"text-align: right;\">\n",
              "      <th></th>\n",
              "      <th>arrival_date_month</th>\n",
              "      <th>total_of_special_requests</th>\n",
              "    </tr>\n",
              "  </thead>\n",
              "  <tbody>\n",
              "    <tr>\n",
              "      <th>3738</th>\n",
              "      <td>January</td>\n",
              "      <td>1</td>\n",
              "    </tr>\n",
              "    <tr>\n",
              "      <th>3739</th>\n",
              "      <td>January</td>\n",
              "      <td>1</td>\n",
              "    </tr>\n",
              "    <tr>\n",
              "      <th>3740</th>\n",
              "      <td>January</td>\n",
              "      <td>1</td>\n",
              "    </tr>\n",
              "    <tr>\n",
              "      <th>3741</th>\n",
              "      <td>January</td>\n",
              "      <td>2</td>\n",
              "    </tr>\n",
              "    <tr>\n",
              "      <th>3743</th>\n",
              "      <td>January</td>\n",
              "      <td>1</td>\n",
              "    </tr>\n",
              "  </tbody>\n",
              "</table>\n",
              "</div>"
            ],
            "text/plain": [
              "     arrival_date_month  total_of_special_requests\n",
              "3738            January                          1\n",
              "3739            January                          1\n",
              "3740            January                          1\n",
              "3741            January                          2\n",
              "3743            January                          1"
            ]
          },
          "metadata": {},
          "execution_count": 54
        }
      ]
    },
    {
      "cell_type": "code",
      "metadata": {
        "id": "94941Ngw-z80"
      },
      "source": [
        "# Sorting months\n",
        "months = special_req_2016['arrival_date_month'].unique()\n",
        "special_req_2016['arrival_date_month'] = pd.Categorical(special_req_2016['arrival_date_month'], categories=months, ordered=True)"
      ],
      "execution_count": 55,
      "outputs": []
    },
    {
      "cell_type": "code",
      "metadata": {
        "colab": {
          "base_uri": "https://localhost:8080/",
          "height": 421
        },
        "id": "c0wgvQqH-zzL",
        "outputId": "6db10a65-399b-4073-f802-8c44e56f5ceb"
      },
      "source": [
        "month_wise_special_req_2016 = special_req_2016.groupby('arrival_date_month')['total_of_special_requests'].sum().reset_index()\n",
        "month_wise_special_req_2016"
      ],
      "execution_count": 56,
      "outputs": [
        {
          "output_type": "execute_result",
          "data": {
            "text/html": [
              "<div>\n",
              "<style scoped>\n",
              "    .dataframe tbody tr th:only-of-type {\n",
              "        vertical-align: middle;\n",
              "    }\n",
              "\n",
              "    .dataframe tbody tr th {\n",
              "        vertical-align: top;\n",
              "    }\n",
              "\n",
              "    .dataframe thead th {\n",
              "        text-align: right;\n",
              "    }\n",
              "</style>\n",
              "<table border=\"1\" class=\"dataframe\">\n",
              "  <thead>\n",
              "    <tr style=\"text-align: right;\">\n",
              "      <th></th>\n",
              "      <th>arrival_date_month</th>\n",
              "      <th>total_of_special_requests</th>\n",
              "    </tr>\n",
              "  </thead>\n",
              "  <tbody>\n",
              "    <tr>\n",
              "      <th>0</th>\n",
              "      <td>January</td>\n",
              "      <td>988</td>\n",
              "    </tr>\n",
              "    <tr>\n",
              "      <th>1</th>\n",
              "      <td>February</td>\n",
              "      <td>1622</td>\n",
              "    </tr>\n",
              "    <tr>\n",
              "      <th>2</th>\n",
              "      <td>March</td>\n",
              "      <td>2079</td>\n",
              "    </tr>\n",
              "    <tr>\n",
              "      <th>3</th>\n",
              "      <td>April</td>\n",
              "      <td>2223</td>\n",
              "    </tr>\n",
              "    <tr>\n",
              "      <th>4</th>\n",
              "      <td>May</td>\n",
              "      <td>2342</td>\n",
              "    </tr>\n",
              "    <tr>\n",
              "      <th>5</th>\n",
              "      <td>June</td>\n",
              "      <td>2633</td>\n",
              "    </tr>\n",
              "    <tr>\n",
              "      <th>6</th>\n",
              "      <td>July</td>\n",
              "      <td>3039</td>\n",
              "    </tr>\n",
              "    <tr>\n",
              "      <th>7</th>\n",
              "      <td>August</td>\n",
              "      <td>3454</td>\n",
              "    </tr>\n",
              "    <tr>\n",
              "      <th>8</th>\n",
              "      <td>September</td>\n",
              "      <td>3399</td>\n",
              "    </tr>\n",
              "    <tr>\n",
              "      <th>9</th>\n",
              "      <td>October</td>\n",
              "      <td>3563</td>\n",
              "    </tr>\n",
              "    <tr>\n",
              "      <th>10</th>\n",
              "      <td>November</td>\n",
              "      <td>2999</td>\n",
              "    </tr>\n",
              "    <tr>\n",
              "      <th>11</th>\n",
              "      <td>December</td>\n",
              "      <td>2771</td>\n",
              "    </tr>\n",
              "  </tbody>\n",
              "</table>\n",
              "</div>"
            ],
            "text/plain": [
              "   arrival_date_month  total_of_special_requests\n",
              "0             January                        988\n",
              "1            February                       1622\n",
              "2               March                       2079\n",
              "3               April                       2223\n",
              "4                 May                       2342\n",
              "5                June                       2633\n",
              "6                July                       3039\n",
              "7              August                       3454\n",
              "8           September                       3399\n",
              "9             October                       3563\n",
              "10           November                       2999\n",
              "11           December                       2771"
            ]
          },
          "metadata": {},
          "execution_count": 56
        }
      ]
    },
    {
      "cell_type": "code",
      "metadata": {
        "id": "nbvyCJwA-zsw"
      },
      "source": [
        "special_req_2017 = df[(df['arrival_date_year'] == 2017) & (df['total_of_special_requests'] != 0)][['arrival_date_month','total_of_special_requests']]\n",
        "#special_request_of_2017.head()"
      ],
      "execution_count": 57,
      "outputs": []
    },
    {
      "cell_type": "code",
      "metadata": {
        "id": "qr8GNc07-zmE"
      },
      "source": [
        "# Sorting months\n",
        "months = special_req_2017['arrival_date_month'].unique()\n",
        "special_req_2017['arrival_date_month'] = pd.Categorical(special_req_2017['arrival_date_month'], categories=months, ordered=True)"
      ],
      "execution_count": 58,
      "outputs": []
    },
    {
      "cell_type": "code",
      "metadata": {
        "colab": {
          "base_uri": "https://localhost:8080/",
          "height": 297
        },
        "id": "a-C3-gdN-zem",
        "outputId": "0f76c7bf-c745-435d-acd7-cf97dfda691b"
      },
      "source": [
        "month_wise_special_req_2017 = special_req_2017.groupby('arrival_date_month')['total_of_special_requests'].sum().reset_index()\n",
        "month_wise_special_req_2017"
      ],
      "execution_count": 59,
      "outputs": [
        {
          "output_type": "execute_result",
          "data": {
            "text/html": [
              "<div>\n",
              "<style scoped>\n",
              "    .dataframe tbody tr th:only-of-type {\n",
              "        vertical-align: middle;\n",
              "    }\n",
              "\n",
              "    .dataframe tbody tr th {\n",
              "        vertical-align: top;\n",
              "    }\n",
              "\n",
              "    .dataframe thead th {\n",
              "        text-align: right;\n",
              "    }\n",
              "</style>\n",
              "<table border=\"1\" class=\"dataframe\">\n",
              "  <thead>\n",
              "    <tr style=\"text-align: right;\">\n",
              "      <th></th>\n",
              "      <th>arrival_date_month</th>\n",
              "      <th>total_of_special_requests</th>\n",
              "    </tr>\n",
              "  </thead>\n",
              "  <tbody>\n",
              "    <tr>\n",
              "      <th>0</th>\n",
              "      <td>January</td>\n",
              "      <td>2258</td>\n",
              "    </tr>\n",
              "    <tr>\n",
              "      <th>1</th>\n",
              "      <td>February</td>\n",
              "      <td>2619</td>\n",
              "    </tr>\n",
              "    <tr>\n",
              "      <th>2</th>\n",
              "      <td>March</td>\n",
              "      <td>2793</td>\n",
              "    </tr>\n",
              "    <tr>\n",
              "      <th>3</th>\n",
              "      <td>April</td>\n",
              "      <td>3560</td>\n",
              "    </tr>\n",
              "    <tr>\n",
              "      <th>4</th>\n",
              "      <td>May</td>\n",
              "      <td>3938</td>\n",
              "    </tr>\n",
              "    <tr>\n",
              "      <th>5</th>\n",
              "      <td>June</td>\n",
              "      <td>3536</td>\n",
              "    </tr>\n",
              "    <tr>\n",
              "      <th>6</th>\n",
              "      <td>July</td>\n",
              "      <td>4240</td>\n",
              "    </tr>\n",
              "    <tr>\n",
              "      <th>7</th>\n",
              "      <td>August</td>\n",
              "      <td>4581</td>\n",
              "    </tr>\n",
              "  </tbody>\n",
              "</table>\n",
              "</div>"
            ],
            "text/plain": [
              "  arrival_date_month  total_of_special_requests\n",
              "0            January                       2258\n",
              "1           February                       2619\n",
              "2              March                       2793\n",
              "3              April                       3560\n",
              "4                May                       3938\n",
              "5               June                       3536\n",
              "6               July                       4240\n",
              "7             August                       4581"
            ]
          },
          "metadata": {},
          "execution_count": 59
        }
      ]
    },
    {
      "cell_type": "code",
      "metadata": {
        "colab": {
          "base_uri": "https://localhost:8080/",
          "height": 848
        },
        "id": "OqAyhe8Z-zYa",
        "outputId": "87632484-f925-4af2-c44e-b24e46c0e9a1"
      },
      "source": [
        "plt.figure(figsize=(20,14))\n",
        "\n",
        "plt.subplot(2,2,1)\n",
        "sns.barplot(y='arrival_date_month', x='total_of_special_requests',\n",
        "           data=month_wise_special_req_2015, palette='icefire')\n",
        "plt.title('Special Request received in the year 2015', fontsize = 20)\n",
        "plt.ylabel('Months', fontsize = 14)\n",
        "plt.xlabel('Total Number of Request', fontsize = 14)\n",
        "\n",
        "plt.subplot(2,2,2)\n",
        "sns.barplot(x='arrival_date_month', y='total_of_special_requests',\n",
        "           data=month_wise_special_req_2016, palette='icefire')\n",
        "plt.title('Special Request received in the year 2016', fontsize = 20)\n",
        "plt.xlabel('Months', fontsize = 14)\n",
        "plt.ylabel('Total Number of Request', fontsize = 14)\n",
        "\n",
        "plt.subplot(2,2,3)\n",
        "sns.barplot(x='arrival_date_month', y='total_of_special_requests',\n",
        "           data=month_wise_special_req_2017, palette='icefire')\n",
        "plt.title('Special Request received in the year 2017', fontsize = 20)\n",
        "plt.xlabel('Months', fontsize = 14)\n",
        "plt.ylabel('Total Number of Request', fontsize = 14)\n",
        "\n",
        "plt.show()"
      ],
      "execution_count": 62,
      "outputs": [
        {
          "output_type": "display_data",
          "data": {
            "image/png": "[encoded data removed]",
            "text/plain": [
              "<Figure size 1440x1008 with 3 Axes>"
            ]
          },
          "metadata": {
            "needs_background": "light"
          }
        }
      ]
    },
    {
      "cell_type": "markdown",
      "metadata": {
        "id": "1UXq-5m4_pUP"
      },
      "source": [
        "# What are the deposit types and cancellations for market segment?"
      ]
    },
    {
      "cell_type": "code",
      "metadata": {
        "colab": {
          "base_uri": "https://localhost:8080/",
          "height": 622
        },
        "id": "jI56XFcc_xuk",
        "outputId": "479386c8-cfe6-4c83-e171-6073c02b92b2"
      },
      "source": [
        "# What are the deposit types for market segments?\n",
        "# Which type of market segment has highest cancellation?\n",
        "plt.figure(figsize=(12,10))\n",
        "plt.subplot(211)\n",
        "sns.countplot(data=df,x='deposit_type',hue='market_segment',\n",
        "             palette='inferno')\n",
        "plt.title('Deposit Type for Market Segment')\n",
        "plt.legend(loc = 1)\n",
        "plt.subplot(212)\n",
        "sns.countplot(data=df,x='is_canceled',hue='market_segment',\n",
        "             palette='inferno')\n",
        "plt.title('Cancellation for Market Segment')\n",
        "plt.show()"
      ],
      "execution_count": 63,
      "outputs": [
        {
          "output_type": "display_data",
          "data": {
            "image/png": "[encoded data removed]",
            "text/plain": [
              "<Figure size 864x720 with 2 Axes>"
            ]
          },
          "metadata": {
            "needs_background": "light"
          }
        }
      ]
    },
    {
      "cell_type": "markdown",
      "metadata": {
        "id": "HUxrX40NikNh"
      },
      "source": [
        "# Which market segment has the lowest number of days on waiting list?"
      ]
    },
    {
      "cell_type": "code",
      "metadata": {
        "id": "8bZIl-84_xmN",
        "colab": {
          "base_uri": "https://localhost:8080/",
          "height": 394
        },
        "outputId": "f6971dd2-121f-41bf-fa08-0a5a558f99f0"
      },
      "source": [
        "plt.figure(figsize=(14,6))\n",
        "sns.set(style='darkgrid')\n",
        "sns.scatterplot(df['market_segment'],df['days_in_waiting_list'],\n",
        "               color='k')\n",
        "plt.xlabel('market segment')\n",
        "plt.ylabel('days in waiting list')\n",
        "plt.show()"
      ],
      "execution_count": 66,
      "outputs": [
        {
          "output_type": "display_data",
          "data": {
            "image/png": "[encoded data removed]",
            "text/plain": [
              "<Figure size 1008x432 with 1 Axes>"
            ]
          },
          "metadata": {}
        }
      ]
    },
    {
      "cell_type": "markdown",
      "metadata": {
        "id": "DO6b_q_MQE0B"
      },
      "source": [
        "# How much do customers pay for a room per night?"
      ]
    },
    {
      "cell_type": "code",
      "metadata": {
        "id": "sT7lDd60_xQW"
      },
      "source": [
        "df2=df[df['is_canceled']==0]"
      ],
      "execution_count": 67,
      "outputs": []
    },
    {
      "cell_type": "code",
      "metadata": {
        "id": "21WAYBhP_wq4",
        "colab": {
          "base_uri": "https://localhost:8080/",
          "height": 520
        },
        "outputId": "4fc897e1-6fe8-4714-b03f-c2edd40318a7"
      },
      "source": [
        "plt.figure(figsize=(12,8))\n",
        "sns.boxplot(x='reserved_room_type',y='adr',data=df2,hue='hotel',\n",
        "            palette=['teal','lightblue']) # adr stands for prize of the room  \n",
        "plt.title('Price of room type per night', fontsize=16)\n",
        "plt.xlabel('room type')\n",
        "plt.ylabel('Price in [EUR]' )\n",
        "plt.show()"
      ],
      "execution_count": 69,
      "outputs": [
        {
          "output_type": "display_data",
          "data": {
            "image/png": "[encoded data removed]",
            "text/plain": [
              "<Figure size 864x576 with 1 Axes>"
            ]
          },
          "metadata": {}
        }
      ]
    },
    {
      "cell_type": "markdown",
      "metadata": {
        "id": "UIxPSIzYQOsY"
      },
      "source": [
        "# What are the prices per month for both the types of hotels?"
      ]
    },
    {
      "cell_type": "code",
      "metadata": {
        "id": "kBDNbizk_why",
        "colab": {
          "base_uri": "https://localhost:8080/",
          "height": 421
        },
        "outputId": "c2147085-7452-4aac-ba05-efed40ba72ac"
      },
      "source": [
        "df_resort = df[(df['hotel'] == 'Resort Hotel') & (df['is_canceled'] == 0)]\n",
        "df_city = df[(df['hotel'] == 'City Hotel') & (df['is_canceled'] == 0)]\n",
        "\n",
        "resort_hotel = df_resort.groupby(['arrival_date_month'])['adr'].mean().reset_index()\n",
        "city_hotel=df_city.groupby(['arrival_date_month'])['adr'].mean().reset_index()\n",
        "\n",
        "merge_hotel = resort_hotel.merge(city_hotel, on='arrival_date_month')\n",
        "merge_hotel.columns = ['months', 'resort_price', 'city_price']\n",
        "merge_hotel"
      ],
      "execution_count": 70,
      "outputs": [
        {
          "output_type": "execute_result",
          "data": {
            "text/html": [
              "<div>\n",
              "<style scoped>\n",
              "    .dataframe tbody tr th:only-of-type {\n",
              "        vertical-align: middle;\n",
              "    }\n",
              "\n",
              "    .dataframe tbody tr th {\n",
              "        vertical-align: top;\n",
              "    }\n",
              "\n",
              "    .dataframe thead th {\n",
              "        text-align: right;\n",
              "    }\n",
              "</style>\n",
              "<table border=\"1\" class=\"dataframe\">\n",
              "  <thead>\n",
              "    <tr style=\"text-align: right;\">\n",
              "      <th></th>\n",
              "      <th>months</th>\n",
              "      <th>resort_price</th>\n",
              "      <th>city_price</th>\n",
              "    </tr>\n",
              "  </thead>\n",
              "  <tbody>\n",
              "    <tr>\n",
              "      <th>0</th>\n",
              "      <td>April</td>\n",
              "      <td>75.867816</td>\n",
              "      <td>111.856824</td>\n",
              "    </tr>\n",
              "    <tr>\n",
              "      <th>1</th>\n",
              "      <td>August</td>\n",
              "      <td>181.205892</td>\n",
              "      <td>118.412083</td>\n",
              "    </tr>\n",
              "    <tr>\n",
              "      <th>2</th>\n",
              "      <td>December</td>\n",
              "      <td>68.322236</td>\n",
              "      <td>87.856764</td>\n",
              "    </tr>\n",
              "    <tr>\n",
              "      <th>3</th>\n",
              "      <td>February</td>\n",
              "      <td>54.147478</td>\n",
              "      <td>86.183025</td>\n",
              "    </tr>\n",
              "    <tr>\n",
              "      <th>4</th>\n",
              "      <td>January</td>\n",
              "      <td>48.708919</td>\n",
              "      <td>82.160634</td>\n",
              "    </tr>\n",
              "    <tr>\n",
              "      <th>5</th>\n",
              "      <td>July</td>\n",
              "      <td>150.122528</td>\n",
              "      <td>115.563810</td>\n",
              "    </tr>\n",
              "    <tr>\n",
              "      <th>6</th>\n",
              "      <td>June</td>\n",
              "      <td>107.921869</td>\n",
              "      <td>117.702075</td>\n",
              "    </tr>\n",
              "    <tr>\n",
              "      <th>7</th>\n",
              "      <td>March</td>\n",
              "      <td>57.012487</td>\n",
              "      <td>90.170722</td>\n",
              "    </tr>\n",
              "    <tr>\n",
              "      <th>8</th>\n",
              "      <td>May</td>\n",
              "      <td>76.657558</td>\n",
              "      <td>120.445842</td>\n",
              "    </tr>\n",
              "    <tr>\n",
              "      <th>9</th>\n",
              "      <td>November</td>\n",
              "      <td>48.681640</td>\n",
              "      <td>86.500456</td>\n",
              "    </tr>\n",
              "    <tr>\n",
              "      <th>10</th>\n",
              "      <td>October</td>\n",
              "      <td>61.727505</td>\n",
              "      <td>101.745956</td>\n",
              "    </tr>\n",
              "    <tr>\n",
              "      <th>11</th>\n",
              "      <td>September</td>\n",
              "      <td>96.416860</td>\n",
              "      <td>112.598452</td>\n",
              "    </tr>\n",
              "  </tbody>\n",
              "</table>\n",
              "</div>"
            ],
            "text/plain": [
              "       months  resort_price  city_price\n",
              "0       April     75.867816  111.856824\n",
              "1      August    181.205892  118.412083\n",
              "2    December     68.322236   87.856764\n",
              "3    February     54.147478   86.183025\n",
              "4     January     48.708919   82.160634\n",
              "5        July    150.122528  115.563810\n",
              "6        June    107.921869  117.702075\n",
              "7       March     57.012487   90.170722\n",
              "8         May     76.657558  120.445842\n",
              "9    November     48.681640   86.500456\n",
              "10    October     61.727505  101.745956\n",
              "11  September     96.416860  112.598452"
            ]
          },
          "metadata": {},
          "execution_count": 70
        }
      ]
    },
    {
      "cell_type": "code",
      "metadata": {
        "id": "M63aaKyu_wYu",
        "colab": {
          "base_uri": "https://localhost:8080/",
          "height": 573
        },
        "outputId": "b6edc2e4-230c-47cf-8268-4923d38ecd27"
      },
      "source": [
        "plt.figure(figsize = (16, 9))\n",
        "sns.set(style='darkgrid')\n",
        "sns.lineplot(data = merge_hotel, x = 'months', y = 'resort_price',label='Resort Hotel Price')\n",
        "sns.lineplot(data = merge_hotel, x = 'months', y = 'city_price',label='City Hotel Price')\n",
        "plt.title(\"Room price per month\")\n",
        "plt.xlabel('months')\n",
        "plt.ylabel('value')\n",
        "plt.legend()\n",
        "plt.show()"
      ],
      "execution_count": 71,
      "outputs": [
        {
          "output_type": "display_data",
          "data": {
            "image/png": "[encoded data removed]",
            "text/plain": [
              "<Figure size 1152x648 with 1 Axes>"
            ]
          },
          "metadata": {}
        }
      ]
    },
    {
      "cell_type": "code",
      "metadata": {
        "id": "_xRfOkZPjk7n"
      },
      "source": [
        ""
      ],
      "execution_count": null,
      "outputs": []
    }
  ]
}